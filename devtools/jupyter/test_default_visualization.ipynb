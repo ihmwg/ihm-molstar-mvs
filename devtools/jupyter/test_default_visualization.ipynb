{
 "cells": [
  {
   "cell_type": "code",
   "execution_count": 1,
   "id": "cda25870-8c5a-4f22-be6f-043a12b2bc90",
   "metadata": {},
   "outputs": [],
   "source": [
    "from mmcif.io.PdbxReader import PdbxReader\n",
    "import pandas as pd"
   ]
  },
  {
   "cell_type": "code",
   "execution_count": 2,
   "id": "294b2a09-76e5-402c-b54e-5503e6320a49",
   "metadata": {},
   "outputs": [],
   "source": [
    "def parse_file(filepath):\n",
    "    containers = []\n",
    "    with open(filepath, 'r') as ifh:\n",
    "        PdbxReader(ifh).read(containers)\n",
    "        return containers[0]\n",
    "\n",
    "cif_file = \"8zzs.cif\"\n",
    "cif = parse_file(cif_file)"
   ]
  },
  {
   "cell_type": "code",
   "execution_count": 3,
   "id": "d1ae564f-f15b-4b0d-881d-a24231addd49",
   "metadata": {},
   "outputs": [
    {
     "data": {
      "text/html": [
       "<div>\n",
       "<style scoped>\n",
       "    .dataframe tbody tr th:only-of-type {\n",
       "        vertical-align: middle;\n",
       "    }\n",
       "\n",
       "    .dataframe tbody tr th {\n",
       "        vertical-align: top;\n",
       "    }\n",
       "\n",
       "    .dataframe thead th {\n",
       "        text-align: right;\n",
       "    }\n",
       "</style>\n",
       "<table border=\"1\" class=\"dataframe\">\n",
       "  <thead>\n",
       "    <tr style=\"text-align: right;\">\n",
       "      <th></th>\n",
       "      <th>asym_id_1</th>\n",
       "      <th>seq_id_1</th>\n",
       "      <th>atom_id_1</th>\n",
       "      <th>asym_id_2</th>\n",
       "      <th>seq_id_2</th>\n",
       "      <th>atom_id_2</th>\n",
       "      <th>distance_threshold</th>\n",
       "      <th>restraint_type</th>\n",
       "    </tr>\n",
       "  </thead>\n",
       "  <tbody>\n",
       "    <tr>\n",
       "      <th>0</th>\n",
       "      <td>K</td>\n",
       "      <td>44</td>\n",
       "      <td>CA</td>\n",
       "      <td>D</td>\n",
       "      <td>78</td>\n",
       "      <td>CA</td>\n",
       "      <td>28.000</td>\n",
       "      <td>upper bound</td>\n",
       "    </tr>\n",
       "  </tbody>\n",
       "</table>\n",
       "</div>"
      ],
      "text/plain": [
       "  asym_id_1 seq_id_1 atom_id_1 asym_id_2 seq_id_2 atom_id_2  \\\n",
       "0         K       44        CA         D       78        CA   \n",
       "\n",
       "  distance_threshold restraint_type  \n",
       "0             28.000    upper bound  "
      ]
     },
     "execution_count": 3,
     "metadata": {},
     "output_type": "execute_result"
    }
   ],
   "source": [
    "def get_restraints(cif):\n",
    "    restraints = []\n",
    "    cross_link_data = cif.getObj('ihm_cross_link_restraint')\n",
    "    \n",
    "    for i in range(cross_link_data.getRowCount()):\n",
    "        data = {\n",
    "                \"asym_id_1\": cross_link_data.getValue(\"asym_id_1\", i),\n",
    "                \"seq_id_1\": cross_link_data.getValue(\"seq_id_1\", i),\n",
    "                \"atom_id_1\" : cross_link_data.getValue(\"atom_id_1\", i),\n",
    "    \n",
    "                \"asym_id_2\": cross_link_data.getValue(\"asym_id_2\", i),\n",
    "                \"seq_id_2\": cross_link_data.getValue(\"seq_id_2\", i),\n",
    "                \"atom_id_2\" : cross_link_data.getValue(\"atom_id_2\", i),\n",
    "            \n",
    "                \"distance_threshold\": cross_link_data.getValue(\"distance_threshold\", i),\n",
    "                \"restraint_type\": cross_link_data.getValue(\"restraint_type\", i),\n",
    "            }\n",
    "    \n",
    "        restraints.append(data)\n",
    "        df = pd.DataFrame(restraints)\n",
    "        df['atom_id_1'] = df['atom_id_1'].str.replace('.', 'CA', regex=False)\n",
    "        df['atom_id_2'] = df['atom_id_2'].str.replace('.', 'CA', regex=False)\n",
    "        \n",
    "    return df\n",
    "\n",
    "restraints = get_restraints(cif)\n",
    "restraints"
   ]
  },
  {
   "cell_type": "code",
   "execution_count": 4,
   "id": "75a8fd63-b340-45cd-ab32-6d589aaf6fe8",
   "metadata": {},
   "outputs": [],
   "source": [
    "from restraint_vis import core"
   ]
  },
  {
   "cell_type": "code",
   "execution_count": 5,
   "id": "d7936027-a0c3-4dad-9014-98d74f8927e8",
   "metadata": {},
   "outputs": [],
   "source": [
    "import molviewspec as mvs"
   ]
  },
  {
   "cell_type": "code",
   "execution_count": 6,
   "id": "155bda6b-e91e-47e8-b51a-48d02de0adad",
   "metadata": {},
   "outputs": [],
   "source": [
    "builder = mvs.create_builder()\n",
    "structure = builder.download(url=f\"https://pdb-ihm.org/cif/{cif_file}\").parse(format=\"mmcif\").assembly_structure(assembly_id=\"1\")"
   ]
  },
  {
   "cell_type": "code",
   "execution_count": 7,
   "id": "1e35ff6b-7076-4d4e-ad0a-90dcfd81608c",
   "metadata": {},
   "outputs": [],
   "source": [
    "core.visualize_macromolecule(structure, cif)"
   ]
  },
  {
   "cell_type": "code",
   "execution_count": 8,
   "id": "cd2bcc37-e6f0-4d0a-9809-f27c69133d29",
   "metadata": {},
   "outputs": [],
   "source": [
    "row = restraints.iloc[0]\n",
    "\n",
    "restraint_info = dict(\n",
    "    start_asym_id = row[\"asym_id_1\"],\n",
    "    start_seq_id = row[\"seq_id_1\"],\n",
    "    start_atom_id = row[\"atom_id_1\"],\n",
    "    \n",
    "    end_asym_id = row[\"asym_id_2\"],\n",
    "    end_seq_id = row[\"seq_id_2\"],\n",
    "    end_atom_id = row[\"atom_id_2\"],\n",
    "    \n",
    "    distance = row[\"distance_threshold\"],\n",
    "    restraint_type = row[\"restraint_type\"],\n",
    ")\n",
    "\n",
    "core.visualize_restraint(structure, **restraint_info)"
   ]
  },
  {
   "cell_type": "code",
   "execution_count": 9,
   "id": "280c5805-b24f-4530-b5db-901f06aaf7d9",
   "metadata": {},
   "outputs": [],
   "source": [
    "builder.save_state(destination=\"8zz1_restraint.mvsj\", title=\"with restraint\")"
   ]
  }
 ],
 "metadata": {
  "kernelspec": {
   "display_name": "Python 3 (ipykernel)",
   "language": "python",
   "name": "python3"
  },
  "language_info": {
   "codemirror_mode": {
    "name": "ipython",
    "version": 3
   },
   "file_extension": ".py",
   "mimetype": "text/x-python",
   "name": "python",
   "nbconvert_exporter": "python",
   "pygments_lexer": "ipython3",
   "version": "3.11.11"
  }
 },
 "nbformat": 4,
 "nbformat_minor": 5
}
