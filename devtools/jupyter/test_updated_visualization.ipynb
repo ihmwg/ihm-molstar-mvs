{
 "cells": [
  {
   "cell_type": "code",
   "execution_count": 1,
   "id": "75a8fd63-b340-45cd-ab32-6d589aaf6fe8",
   "metadata": {},
   "outputs": [],
   "source": [
    "from restraint_vis import core\n",
    "import molviewspec as mvs"
   ]
  },
  {
   "cell_type": "code",
   "execution_count": 2,
   "id": "c9e1ad8c-f1ff-4439-9a6a-718675be6cdc",
   "metadata": {},
   "outputs": [],
   "source": [
    "# Define CIF file\n",
    "\n",
    "cif_file = \"8zzs.cif\""
   ]
  },
  {
   "cell_type": "code",
   "execution_count": 3,
   "id": "e62b0461-4654-41d8-8703-6405c4d972f6",
   "metadata": {},
   "outputs": [],
   "source": [
    "# Get cif file\n",
    "cif = core.parse_file(cif_file)"
   ]
  },
  {
   "cell_type": "code",
   "execution_count": 4,
   "id": "155bda6b-e91e-47e8-b51a-48d02de0adad",
   "metadata": {},
   "outputs": [],
   "source": [
    "# Setup mvs scene, visualize structure\n",
    "builder = mvs.create_builder()\n",
    "structure = builder.download(url=f\"https://pdb-ihm.org/cif/{cif_file}\").parse(format=\"mmcif\").assembly_structure(assembly_id=\"1\")\n",
    "\n",
    "core.visualize_macromolecule(structure, cif[0])"
   ]
  },
  {
   "cell_type": "code",
   "execution_count": 7,
   "id": "64189443-f116-40ee-b10b-a04d867e215f",
   "metadata": {},
   "outputs": [],
   "source": [
    "# Parse and visualize restraints\n",
    "restraints = core.get_restraints(cif)\n",
    "\n",
    "for _, row in restraints.iterrows():\n",
    "\n",
    "    restraint_info = {\n",
    "        \"start_asym_id\"  : row[\"asym_id_1\"],\n",
    "        \"start_seq_id\"   : row[\"seq_id_1\"],\n",
    "        \"start_atom_id\"  : row[\"atom_id_1\"],\n",
    "        \n",
    "        \"end_asym_id\"    : row[\"asym_id_2\"],\n",
    "        \"end_seq_id\"     : row[\"seq_id_2\"],\n",
    "        \"end_atom_id\"    : row[\"atom_id_2\"],\n",
    "\n",
    "        \"distance\"       : row[\"distance_threshold\"],\n",
    "        \"restraint_type\" : row[\"restraint_type\"],\n",
    "\n",
    "\n",
    "       # probably ugly, but test all the different\n",
    "       # things properly modify the representations\n",
    "        \n",
    "        \"representation\" : \"surface\",\n",
    "        \"residue_color\"  : \"green\",\n",
    "\n",
    "        \"radius\"         : 0.5,\n",
    "        \"dash_length\"    : 0.9,\n",
    "        \"line_color\"     : \"skyblue\",\n",
    "\n",
    "        \"label_color\"    : \"black\",\n",
    "        \"focus\"          : False\n",
    "}\n",
    "\n",
    "core.visualize_restraint(structure, **restraint_info)"
   ]
  },
  {
   "cell_type": "code",
   "execution_count": 8,
   "id": "cd2bcc37-e6f0-4d0a-9809-f27c69133d29",
   "metadata": {},
   "outputs": [],
   "source": [
    "# Define output file\n",
    "\n",
    "output_file = \"updated_restraint_test.mvsj\""
   ]
  },
  {
   "cell_type": "code",
   "execution_count": 9,
   "id": "280c5805-b24f-4530-b5db-901f06aaf7d9",
   "metadata": {},
   "outputs": [],
   "source": [
    "# save\n",
    "\n",
    "builder.save_state(destination=output_file, title=\"Restraint test\")"
   ]
  },
  {
   "cell_type": "code",
   "execution_count": null,
   "id": "04086dab-6e7c-4b39-9370-9706f9da090c",
   "metadata": {},
   "outputs": [],
   "source": []
  },
  {
   "cell_type": "code",
   "execution_count": null,
   "id": "3fff9c8a-e3f1-4564-bc04-611b8cc2672d",
   "metadata": {},
   "outputs": [],
   "source": []
  }
 ],
 "metadata": {
  "kernelspec": {
   "display_name": "Python 3 (ipykernel)",
   "language": "python",
   "name": "python3"
  },
  "language_info": {
   "codemirror_mode": {
    "name": "ipython",
    "version": 3
   },
   "file_extension": ".py",
   "mimetype": "text/x-python",
   "name": "python",
   "nbconvert_exporter": "python",
   "pygments_lexer": "ipython3",
   "version": "3.11.11"
  }
 },
 "nbformat": 4,
 "nbformat_minor": 5
}
